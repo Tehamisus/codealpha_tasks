{
 "cells": [
  {
   "cell_type": "code",
   "execution_count": null,
   "id": "7b3e4321-9c0f-4a59-9b0d-d4cac0a40276",
   "metadata": {},
   "outputs": [],
   "source": [
    "import os\n",
    "import shutil\n",
    "\n",
    "def organize_files(directory):\n",
    "    if not os.path.exists(directory):\n",
    "        print(\"Directory does not exist.\")\n",
    "        return\n",
    "    \n",
    "    file_types = {\n",
    "        'Images': ['.jpg', '.jpeg', '.png', '.gif'],\n",
    "        'Documents': ['.pdf', '.docx', '.txt', '.xlsx'],\n",
    "        'Flutter' : [\".dart\"],\n",
    "        'App' : ['.lnk'],\n",
    "        'Apps' : [\".exe\"],\n",
    "        'Videos': ['.mp4', '.avi', '.mkv'],\n",
    "        'Archives': ['.zip', '.rar', '.tar'],\n",
    "    }\n",
    "    \n",
    "    for folder in file_types.keys():\n",
    "        folder_path = os.path.join(directory, folder)\n",
    "        if not os.path.exists(folder_path):\n",
    "            os.makedirs(folder_path)\n",
    "    \n",
    "    for file in os.listdir(directory):\n",
    "        file_path = os.path.join(directory, file)\n",
    "        if os.path.isfile(file_path):\n",
    "            for folder, extensions in file_types.items():\n",
    "                if any(file.lower().endswith(ext) for ext in extensions):\n",
    "                    shutil.move(file_path, os.path.join(directory, folder, file))\n",
    "                    break\n",
    "    \n",
    "    print(\"Files organized successfully!\")\n",
    "\n",
    "if __name__ == \"__main__\":\n",
    "    folder_to_organize = input(\"Please enter the directory path to organize: \")\n",
    "    organize_files(folder_to_organize)\n",
    "\n"
   ]
  },
  {
   "cell_type": "code",
   "execution_count": null,
   "id": "2e704708-6a53-42a4-99b1-1c45649efc92",
   "metadata": {},
   "outputs": [],
   "source": []
  },
  {
   "cell_type": "code",
   "execution_count": null,
   "id": "7a2e365f-a2e5-42f0-b9d7-78bb79f839bd",
   "metadata": {},
   "outputs": [],
   "source": []
  }
 ],
 "metadata": {
  "kernelspec": {
   "display_name": "Python 3 (ipykernel)",
   "language": "python",
   "name": "python3"
  },
  "language_info": {
   "codemirror_mode": {
    "name": "ipython",
    "version": 3
   },
   "file_extension": ".py",
   "mimetype": "text/x-python",
   "name": "python",
   "nbconvert_exporter": "python",
   "pygments_lexer": "ipython3",
   "version": "3.13.1"
  }
 },
 "nbformat": 4,
 "nbformat_minor": 5
}
